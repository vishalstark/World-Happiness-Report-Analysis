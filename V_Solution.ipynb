{
 "cells": [
  {
   "cell_type": "code",
   "execution_count": 593,
   "metadata": {},
   "outputs": [],
   "source": [
    "import pandas as pd\n",
    "import numpy as np\n",
    "import matplotlib.pyplot as plt\n",
    "import seaborn as sns\n",
    "import statistics as s"
   ]
  },
  {
   "cell_type": "code",
   "execution_count": 594,
   "metadata": {},
   "outputs": [],
   "source": [
    "data18 = pd.read_csv('2018.csv')\n",
    "data19 = pd.read_csv('2019.csv')"
   ]
  },
  {
   "cell_type": "code",
   "execution_count": 595,
   "metadata": {},
   "outputs": [],
   "source": [
    "data18.rename(columns={'Overall rank':'Rank','Country or region':'Country','GDP per capita':'GDP','Social support':'Social','Healthy life expectancy':'life_expectancy','Freedom to make life choices':'Freedom','Perceptions of corruption':'Corruption'},inplace=True)\n",
    "data19.rename(columns={'Overall rank':'Rank','Country or region':'Country','GDP per capita':'GDP','Social support':'Social','Healthy life expectancy':'life_expectancy','Freedom to make life choices':'Freedom','Perceptions of corruption':'Corruption'},inplace=True)"
   ]
  },
  {
   "cell_type": "code",
   "execution_count": 596,
   "metadata": {},
   "outputs": [
    {
     "data": {
      "text/plain": [
       "Rank               0\n",
       "Country            0\n",
       "Score              0\n",
       "GDP                0\n",
       "Social             0\n",
       "life_expectancy    0\n",
       "Freedom            0\n",
       "Generosity         0\n",
       "Corruption         1\n",
       "dtype: int64"
      ]
     },
     "execution_count": 596,
     "metadata": {},
     "output_type": "execute_result"
    }
   ],
   "source": [
    "data18.isna().sum()"
   ]
  },
  {
   "cell_type": "code",
   "execution_count": 597,
   "metadata": {},
   "outputs": [],
   "source": [
    "data18.dropna(inplace=True)"
   ]
  },
  {
   "cell_type": "code",
   "execution_count": 598,
   "metadata": {},
   "outputs": [],
   "source": [
    "#data18.isna().sum()"
   ]
  },
  {
   "cell_type": "code",
   "execution_count": 599,
   "metadata": {},
   "outputs": [],
   "source": [
    "data19.drop(index=20,inplace=True)"
   ]
  },
  {
   "cell_type": "code",
   "execution_count": null,
   "metadata": {},
   "outputs": [],
   "source": []
  },
  {
   "cell_type": "code",
   "execution_count": 600,
   "metadata": {},
   "outputs": [],
   "source": [
    "data18 = data18.sort_values('Country')\n",
    "data19 = data19.sort_values('Country')"
   ]
  },
  {
   "cell_type": "code",
   "execution_count": 601,
   "metadata": {},
   "outputs": [],
   "source": [
    "temp18 = data18[data18['Country'].isin(['Afghanistan','Argentina','Bangladesh','Belgium','Brazil','Canada','China','Finland','Greece','Germany','India'])]\n",
    "temp19 = data19[data19['Country'].isin(['Afghanistan','Argentina','Bangladesh','Belgium','Brazil','Canada','China','Finland','Greece','Germany','India'])]"
   ]
  },
  {
   "cell_type": "code",
   "execution_count": 602,
   "metadata": {},
   "outputs": [
    {
     "data": {
      "text/html": [
       "<div>\n",
       "<style scoped>\n",
       "    .dataframe tbody tr th:only-of-type {\n",
       "        vertical-align: middle;\n",
       "    }\n",
       "\n",
       "    .dataframe tbody tr th {\n",
       "        vertical-align: top;\n",
       "    }\n",
       "\n",
       "    .dataframe thead th {\n",
       "        text-align: right;\n",
       "    }\n",
       "</style>\n",
       "<table border=\"1\" class=\"dataframe\">\n",
       "  <thead>\n",
       "    <tr style=\"text-align: right;\">\n",
       "      <th></th>\n",
       "      <th>Rank</th>\n",
       "      <th>Country</th>\n",
       "      <th>Score</th>\n",
       "      <th>GDP</th>\n",
       "      <th>Social</th>\n",
       "      <th>life_expectancy</th>\n",
       "      <th>Freedom</th>\n",
       "      <th>Generosity</th>\n",
       "      <th>Corruption</th>\n",
       "    </tr>\n",
       "  </thead>\n",
       "  <tbody>\n",
       "    <tr>\n",
       "      <th>144</th>\n",
       "      <td>145</td>\n",
       "      <td>Afghanistan</td>\n",
       "      <td>3.632</td>\n",
       "      <td>0.332</td>\n",
       "      <td>0.537</td>\n",
       "      <td>0.255</td>\n",
       "      <td>0.085</td>\n",
       "      <td>0.191</td>\n",
       "      <td>0.036</td>\n",
       "    </tr>\n",
       "    <tr>\n",
       "      <th>28</th>\n",
       "      <td>29</td>\n",
       "      <td>Argentina</td>\n",
       "      <td>6.388</td>\n",
       "      <td>1.073</td>\n",
       "      <td>1.468</td>\n",
       "      <td>0.744</td>\n",
       "      <td>0.570</td>\n",
       "      <td>0.062</td>\n",
       "      <td>0.054</td>\n",
       "    </tr>\n",
       "    <tr>\n",
       "      <th>114</th>\n",
       "      <td>115</td>\n",
       "      <td>Bangladesh</td>\n",
       "      <td>4.500</td>\n",
       "      <td>0.532</td>\n",
       "      <td>0.850</td>\n",
       "      <td>0.579</td>\n",
       "      <td>0.580</td>\n",
       "      <td>0.153</td>\n",
       "      <td>0.144</td>\n",
       "    </tr>\n",
       "    <tr>\n",
       "      <th>15</th>\n",
       "      <td>16</td>\n",
       "      <td>Belgium</td>\n",
       "      <td>6.927</td>\n",
       "      <td>1.324</td>\n",
       "      <td>1.483</td>\n",
       "      <td>0.894</td>\n",
       "      <td>0.583</td>\n",
       "      <td>0.188</td>\n",
       "      <td>0.240</td>\n",
       "    </tr>\n",
       "    <tr>\n",
       "      <th>27</th>\n",
       "      <td>28</td>\n",
       "      <td>Brazil</td>\n",
       "      <td>6.419</td>\n",
       "      <td>0.986</td>\n",
       "      <td>1.474</td>\n",
       "      <td>0.675</td>\n",
       "      <td>0.493</td>\n",
       "      <td>0.110</td>\n",
       "      <td>0.088</td>\n",
       "    </tr>\n",
       "    <tr>\n",
       "      <th>6</th>\n",
       "      <td>7</td>\n",
       "      <td>Canada</td>\n",
       "      <td>7.328</td>\n",
       "      <td>1.330</td>\n",
       "      <td>1.532</td>\n",
       "      <td>0.896</td>\n",
       "      <td>0.653</td>\n",
       "      <td>0.321</td>\n",
       "      <td>0.291</td>\n",
       "    </tr>\n",
       "    <tr>\n",
       "      <th>85</th>\n",
       "      <td>86</td>\n",
       "      <td>China</td>\n",
       "      <td>5.246</td>\n",
       "      <td>0.989</td>\n",
       "      <td>1.142</td>\n",
       "      <td>0.799</td>\n",
       "      <td>0.597</td>\n",
       "      <td>0.029</td>\n",
       "      <td>0.103</td>\n",
       "    </tr>\n",
       "    <tr>\n",
       "      <th>0</th>\n",
       "      <td>1</td>\n",
       "      <td>Finland</td>\n",
       "      <td>7.632</td>\n",
       "      <td>1.305</td>\n",
       "      <td>1.592</td>\n",
       "      <td>0.874</td>\n",
       "      <td>0.681</td>\n",
       "      <td>0.202</td>\n",
       "      <td>0.393</td>\n",
       "    </tr>\n",
       "    <tr>\n",
       "      <th>14</th>\n",
       "      <td>15</td>\n",
       "      <td>Germany</td>\n",
       "      <td>6.965</td>\n",
       "      <td>1.340</td>\n",
       "      <td>1.474</td>\n",
       "      <td>0.861</td>\n",
       "      <td>0.586</td>\n",
       "      <td>0.273</td>\n",
       "      <td>0.280</td>\n",
       "    </tr>\n",
       "    <tr>\n",
       "      <th>78</th>\n",
       "      <td>79</td>\n",
       "      <td>Greece</td>\n",
       "      <td>5.358</td>\n",
       "      <td>1.154</td>\n",
       "      <td>1.202</td>\n",
       "      <td>0.879</td>\n",
       "      <td>0.131</td>\n",
       "      <td>0.000</td>\n",
       "      <td>0.044</td>\n",
       "    </tr>\n",
       "    <tr>\n",
       "      <th>132</th>\n",
       "      <td>133</td>\n",
       "      <td>India</td>\n",
       "      <td>4.190</td>\n",
       "      <td>0.721</td>\n",
       "      <td>0.747</td>\n",
       "      <td>0.485</td>\n",
       "      <td>0.539</td>\n",
       "      <td>0.172</td>\n",
       "      <td>0.093</td>\n",
       "    </tr>\n",
       "  </tbody>\n",
       "</table>\n",
       "</div>"
      ],
      "text/plain": [
       "     Rank      Country  Score    GDP  Social  life_expectancy  Freedom  \\\n",
       "144   145  Afghanistan  3.632  0.332   0.537            0.255    0.085   \n",
       "28     29    Argentina  6.388  1.073   1.468            0.744    0.570   \n",
       "114   115   Bangladesh  4.500  0.532   0.850            0.579    0.580   \n",
       "15     16      Belgium  6.927  1.324   1.483            0.894    0.583   \n",
       "27     28       Brazil  6.419  0.986   1.474            0.675    0.493   \n",
       "6       7       Canada  7.328  1.330   1.532            0.896    0.653   \n",
       "85     86        China  5.246  0.989   1.142            0.799    0.597   \n",
       "0       1      Finland  7.632  1.305   1.592            0.874    0.681   \n",
       "14     15      Germany  6.965  1.340   1.474            0.861    0.586   \n",
       "78     79       Greece  5.358  1.154   1.202            0.879    0.131   \n",
       "132   133        India  4.190  0.721   0.747            0.485    0.539   \n",
       "\n",
       "     Generosity  Corruption  \n",
       "144       0.191       0.036  \n",
       "28        0.062       0.054  \n",
       "114       0.153       0.144  \n",
       "15        0.188       0.240  \n",
       "27        0.110       0.088  \n",
       "6         0.321       0.291  \n",
       "85        0.029       0.103  \n",
       "0         0.202       0.393  \n",
       "14        0.273       0.280  \n",
       "78        0.000       0.044  \n",
       "132       0.172       0.093  "
      ]
     },
     "execution_count": 602,
     "metadata": {},
     "output_type": "execute_result"
    }
   ],
   "source": [
    "temp18"
   ]
  },
  {
   "cell_type": "code",
   "execution_count": 603,
   "metadata": {},
   "outputs": [
    {
     "data": {
      "text/html": [
       "<div>\n",
       "<style scoped>\n",
       "    .dataframe tbody tr th:only-of-type {\n",
       "        vertical-align: middle;\n",
       "    }\n",
       "\n",
       "    .dataframe tbody tr th {\n",
       "        vertical-align: top;\n",
       "    }\n",
       "\n",
       "    .dataframe thead th {\n",
       "        text-align: right;\n",
       "    }\n",
       "</style>\n",
       "<table border=\"1\" class=\"dataframe\">\n",
       "  <thead>\n",
       "    <tr style=\"text-align: right;\">\n",
       "      <th></th>\n",
       "      <th>Rank</th>\n",
       "      <th>Country</th>\n",
       "      <th>Score</th>\n",
       "      <th>GDP</th>\n",
       "      <th>Social</th>\n",
       "      <th>life_expectancy</th>\n",
       "      <th>Freedom</th>\n",
       "      <th>Generosity</th>\n",
       "      <th>Corruption</th>\n",
       "    </tr>\n",
       "  </thead>\n",
       "  <tbody>\n",
       "    <tr>\n",
       "      <th>153</th>\n",
       "      <td>154</td>\n",
       "      <td>Afghanistan</td>\n",
       "      <td>3.203</td>\n",
       "      <td>0.350</td>\n",
       "      <td>0.517</td>\n",
       "      <td>0.361</td>\n",
       "      <td>0.000</td>\n",
       "      <td>0.158</td>\n",
       "      <td>0.025</td>\n",
       "    </tr>\n",
       "    <tr>\n",
       "      <th>46</th>\n",
       "      <td>47</td>\n",
       "      <td>Argentina</td>\n",
       "      <td>6.086</td>\n",
       "      <td>1.092</td>\n",
       "      <td>1.432</td>\n",
       "      <td>0.881</td>\n",
       "      <td>0.471</td>\n",
       "      <td>0.066</td>\n",
       "      <td>0.050</td>\n",
       "    </tr>\n",
       "    <tr>\n",
       "      <th>124</th>\n",
       "      <td>125</td>\n",
       "      <td>Bangladesh</td>\n",
       "      <td>4.456</td>\n",
       "      <td>0.562</td>\n",
       "      <td>0.928</td>\n",
       "      <td>0.723</td>\n",
       "      <td>0.527</td>\n",
       "      <td>0.166</td>\n",
       "      <td>0.143</td>\n",
       "    </tr>\n",
       "    <tr>\n",
       "      <th>17</th>\n",
       "      <td>18</td>\n",
       "      <td>Belgium</td>\n",
       "      <td>6.923</td>\n",
       "      <td>1.356</td>\n",
       "      <td>1.504</td>\n",
       "      <td>0.986</td>\n",
       "      <td>0.473</td>\n",
       "      <td>0.160</td>\n",
       "      <td>0.210</td>\n",
       "    </tr>\n",
       "    <tr>\n",
       "      <th>31</th>\n",
       "      <td>32</td>\n",
       "      <td>Brazil</td>\n",
       "      <td>6.300</td>\n",
       "      <td>1.004</td>\n",
       "      <td>1.439</td>\n",
       "      <td>0.802</td>\n",
       "      <td>0.390</td>\n",
       "      <td>0.099</td>\n",
       "      <td>0.086</td>\n",
       "    </tr>\n",
       "    <tr>\n",
       "      <th>8</th>\n",
       "      <td>9</td>\n",
       "      <td>Canada</td>\n",
       "      <td>7.278</td>\n",
       "      <td>1.365</td>\n",
       "      <td>1.505</td>\n",
       "      <td>1.039</td>\n",
       "      <td>0.584</td>\n",
       "      <td>0.285</td>\n",
       "      <td>0.308</td>\n",
       "    </tr>\n",
       "    <tr>\n",
       "      <th>92</th>\n",
       "      <td>93</td>\n",
       "      <td>China</td>\n",
       "      <td>5.191</td>\n",
       "      <td>1.029</td>\n",
       "      <td>1.125</td>\n",
       "      <td>0.893</td>\n",
       "      <td>0.521</td>\n",
       "      <td>0.058</td>\n",
       "      <td>0.100</td>\n",
       "    </tr>\n",
       "    <tr>\n",
       "      <th>0</th>\n",
       "      <td>1</td>\n",
       "      <td>Finland</td>\n",
       "      <td>7.769</td>\n",
       "      <td>1.340</td>\n",
       "      <td>1.587</td>\n",
       "      <td>0.986</td>\n",
       "      <td>0.596</td>\n",
       "      <td>0.153</td>\n",
       "      <td>0.393</td>\n",
       "    </tr>\n",
       "    <tr>\n",
       "      <th>16</th>\n",
       "      <td>17</td>\n",
       "      <td>Germany</td>\n",
       "      <td>6.985</td>\n",
       "      <td>1.373</td>\n",
       "      <td>1.454</td>\n",
       "      <td>0.987</td>\n",
       "      <td>0.495</td>\n",
       "      <td>0.261</td>\n",
       "      <td>0.265</td>\n",
       "    </tr>\n",
       "    <tr>\n",
       "      <th>81</th>\n",
       "      <td>82</td>\n",
       "      <td>Greece</td>\n",
       "      <td>5.287</td>\n",
       "      <td>1.181</td>\n",
       "      <td>1.156</td>\n",
       "      <td>0.999</td>\n",
       "      <td>0.067</td>\n",
       "      <td>0.000</td>\n",
       "      <td>0.034</td>\n",
       "    </tr>\n",
       "    <tr>\n",
       "      <th>139</th>\n",
       "      <td>140</td>\n",
       "      <td>India</td>\n",
       "      <td>4.015</td>\n",
       "      <td>0.755</td>\n",
       "      <td>0.765</td>\n",
       "      <td>0.588</td>\n",
       "      <td>0.498</td>\n",
       "      <td>0.200</td>\n",
       "      <td>0.085</td>\n",
       "    </tr>\n",
       "  </tbody>\n",
       "</table>\n",
       "</div>"
      ],
      "text/plain": [
       "     Rank      Country  Score    GDP  Social  life_expectancy  Freedom  \\\n",
       "153   154  Afghanistan  3.203  0.350   0.517            0.361    0.000   \n",
       "46     47    Argentina  6.086  1.092   1.432            0.881    0.471   \n",
       "124   125   Bangladesh  4.456  0.562   0.928            0.723    0.527   \n",
       "17     18      Belgium  6.923  1.356   1.504            0.986    0.473   \n",
       "31     32       Brazil  6.300  1.004   1.439            0.802    0.390   \n",
       "8       9       Canada  7.278  1.365   1.505            1.039    0.584   \n",
       "92     93        China  5.191  1.029   1.125            0.893    0.521   \n",
       "0       1      Finland  7.769  1.340   1.587            0.986    0.596   \n",
       "16     17      Germany  6.985  1.373   1.454            0.987    0.495   \n",
       "81     82       Greece  5.287  1.181   1.156            0.999    0.067   \n",
       "139   140        India  4.015  0.755   0.765            0.588    0.498   \n",
       "\n",
       "     Generosity  Corruption  \n",
       "153       0.158       0.025  \n",
       "46        0.066       0.050  \n",
       "124       0.166       0.143  \n",
       "17        0.160       0.210  \n",
       "31        0.099       0.086  \n",
       "8         0.285       0.308  \n",
       "92        0.058       0.100  \n",
       "0         0.153       0.393  \n",
       "16        0.261       0.265  \n",
       "81        0.000       0.034  \n",
       "139       0.200       0.085  "
      ]
     },
     "execution_count": 603,
     "metadata": {},
     "output_type": "execute_result"
    }
   ],
   "source": [
    "temp19"
   ]
  },
  {
   "cell_type": "code",
   "execution_count": 604,
   "metadata": {},
   "outputs": [],
   "source": [
    "world_18_19 = temp18.copy()\n",
    "world_18_19['Score'] =temp18['Score'].values + temp19['Score'].values\n",
    "world_18_19['GDP'] =temp18['GDP'].values + temp19['GDP'].values\n",
    "world_18_19['Social'] =temp18['Social'].values + temp19['Social'].values\n",
    "world_18_19['life_expectancy'] =temp18['life_expectancy'].values + temp19['life_expectancy'].values\n",
    "world_18_19['Freedom'] =temp18['Freedom'].values + temp19['Freedom'].values\n",
    "world_18_19['Generosity'] =temp18['Generosity'].values + temp19['Generosity'].values\n",
    "world_18_19['Corruption'] =temp18['Corruption'].values + temp19['Corruption'].values\n",
    "#temp18[temp18['Score','GDP','Social','life_expectancy','Freedom','Generosity','Corruption']] + temp19[temp19['Score','GDP','Social','life_expectancy','Freedom','Generosity','Corruption']]"
   ]
  },
  {
   "cell_type": "code",
   "execution_count": 605,
   "metadata": {},
   "outputs": [],
   "source": [
    "data_1a = world_18_19['Score'].mean()\n",
    "data_1b = world_18_19['Generosity'].std()"
   ]
  },
  {
   "cell_type": "code",
   "execution_count": 606,
   "metadata": {},
   "outputs": [
    {
     "data": {
      "text/plain": [
       "11.643454545454546"
      ]
     },
     "execution_count": 606,
     "metadata": {},
     "output_type": "execute_result"
    }
   ],
   "source": [
    "data_1a"
   ]
  },
  {
   "cell_type": "code",
   "execution_count": 607,
   "metadata": {},
   "outputs": [
    {
     "data": {
      "text/plain": [
       "0.18300178836682046"
      ]
     },
     "execution_count": 607,
     "metadata": {},
     "output_type": "execute_result"
    }
   ],
   "source": [
    "data_1b"
   ]
  },
  {
   "cell_type": "code",
   "execution_count": 608,
   "metadata": {},
   "outputs": [],
   "source": [
    "#pd.concat([temp18,temp19]).groupby(level=0).sum()"
   ]
  },
  {
   "cell_type": "markdown",
   "metadata": {},
   "source": [
    "# Objective 2"
   ]
  },
  {
   "cell_type": "code",
   "execution_count": 609,
   "metadata": {},
   "outputs": [],
   "source": [
    "data15 = pd.read_csv('2015.csv')\n",
    "data16 = pd.read_csv('2016.csv')"
   ]
  },
  {
   "cell_type": "code",
   "execution_count": 610,
   "metadata": {},
   "outputs": [
    {
     "data": {
      "text/html": [
       "<div>\n",
       "<style scoped>\n",
       "    .dataframe tbody tr th:only-of-type {\n",
       "        vertical-align: middle;\n",
       "    }\n",
       "\n",
       "    .dataframe tbody tr th {\n",
       "        vertical-align: top;\n",
       "    }\n",
       "\n",
       "    .dataframe thead th {\n",
       "        text-align: right;\n",
       "    }\n",
       "</style>\n",
       "<table border=\"1\" class=\"dataframe\">\n",
       "  <thead>\n",
       "    <tr style=\"text-align: right;\">\n",
       "      <th></th>\n",
       "      <th>Country</th>\n",
       "      <th>Region</th>\n",
       "      <th>Happiness Rank</th>\n",
       "      <th>Happiness Score</th>\n",
       "      <th>Lower Confidence Interval</th>\n",
       "      <th>Upper Confidence Interval</th>\n",
       "      <th>Economy (GDP per Capita)</th>\n",
       "      <th>Family</th>\n",
       "      <th>Health (Life Expectancy)</th>\n",
       "      <th>Freedom</th>\n",
       "      <th>Trust (Government Corruption)</th>\n",
       "      <th>Generosity</th>\n",
       "      <th>Dystopia Residual</th>\n",
       "    </tr>\n",
       "  </thead>\n",
       "  <tbody>\n",
       "    <tr>\n",
       "      <th>0</th>\n",
       "      <td>Denmark</td>\n",
       "      <td>Western Europe</td>\n",
       "      <td>1</td>\n",
       "      <td>7.526</td>\n",
       "      <td>7.460</td>\n",
       "      <td>7.592</td>\n",
       "      <td>1.44178</td>\n",
       "      <td>1.16374</td>\n",
       "      <td>0.79504</td>\n",
       "      <td>0.57941</td>\n",
       "      <td>0.44453</td>\n",
       "      <td>0.36171</td>\n",
       "      <td>2.73939</td>\n",
       "    </tr>\n",
       "    <tr>\n",
       "      <th>1</th>\n",
       "      <td>Switzerland</td>\n",
       "      <td>Western Europe</td>\n",
       "      <td>2</td>\n",
       "      <td>7.509</td>\n",
       "      <td>7.428</td>\n",
       "      <td>7.590</td>\n",
       "      <td>1.52733</td>\n",
       "      <td>1.14524</td>\n",
       "      <td>0.86303</td>\n",
       "      <td>0.58557</td>\n",
       "      <td>0.41203</td>\n",
       "      <td>0.28083</td>\n",
       "      <td>2.69463</td>\n",
       "    </tr>\n",
       "    <tr>\n",
       "      <th>2</th>\n",
       "      <td>Iceland</td>\n",
       "      <td>Western Europe</td>\n",
       "      <td>3</td>\n",
       "      <td>7.501</td>\n",
       "      <td>7.333</td>\n",
       "      <td>7.669</td>\n",
       "      <td>1.42666</td>\n",
       "      <td>1.18326</td>\n",
       "      <td>0.86733</td>\n",
       "      <td>0.56624</td>\n",
       "      <td>0.14975</td>\n",
       "      <td>0.47678</td>\n",
       "      <td>2.83137</td>\n",
       "    </tr>\n",
       "    <tr>\n",
       "      <th>3</th>\n",
       "      <td>Norway</td>\n",
       "      <td>Western Europe</td>\n",
       "      <td>4</td>\n",
       "      <td>7.498</td>\n",
       "      <td>7.421</td>\n",
       "      <td>7.575</td>\n",
       "      <td>1.57744</td>\n",
       "      <td>1.12690</td>\n",
       "      <td>0.79579</td>\n",
       "      <td>0.59609</td>\n",
       "      <td>0.35776</td>\n",
       "      <td>0.37895</td>\n",
       "      <td>2.66465</td>\n",
       "    </tr>\n",
       "    <tr>\n",
       "      <th>4</th>\n",
       "      <td>Finland</td>\n",
       "      <td>Western Europe</td>\n",
       "      <td>5</td>\n",
       "      <td>7.413</td>\n",
       "      <td>7.351</td>\n",
       "      <td>7.475</td>\n",
       "      <td>1.40598</td>\n",
       "      <td>1.13464</td>\n",
       "      <td>0.81091</td>\n",
       "      <td>0.57104</td>\n",
       "      <td>0.41004</td>\n",
       "      <td>0.25492</td>\n",
       "      <td>2.82596</td>\n",
       "    </tr>\n",
       "    <tr>\n",
       "      <th>5</th>\n",
       "      <td>Canada</td>\n",
       "      <td>North America</td>\n",
       "      <td>6</td>\n",
       "      <td>7.404</td>\n",
       "      <td>7.335</td>\n",
       "      <td>7.473</td>\n",
       "      <td>1.44015</td>\n",
       "      <td>1.09610</td>\n",
       "      <td>0.82760</td>\n",
       "      <td>0.57370</td>\n",
       "      <td>0.31329</td>\n",
       "      <td>0.44834</td>\n",
       "      <td>2.70485</td>\n",
       "    </tr>\n",
       "    <tr>\n",
       "      <th>6</th>\n",
       "      <td>Netherlands</td>\n",
       "      <td>Western Europe</td>\n",
       "      <td>7</td>\n",
       "      <td>7.339</td>\n",
       "      <td>7.284</td>\n",
       "      <td>7.394</td>\n",
       "      <td>1.46468</td>\n",
       "      <td>1.02912</td>\n",
       "      <td>0.81231</td>\n",
       "      <td>0.55211</td>\n",
       "      <td>0.29927</td>\n",
       "      <td>0.47416</td>\n",
       "      <td>2.70749</td>\n",
       "    </tr>\n",
       "    <tr>\n",
       "      <th>7</th>\n",
       "      <td>New Zealand</td>\n",
       "      <td>Australia and New Zealand</td>\n",
       "      <td>8</td>\n",
       "      <td>7.334</td>\n",
       "      <td>7.264</td>\n",
       "      <td>7.404</td>\n",
       "      <td>1.36066</td>\n",
       "      <td>1.17278</td>\n",
       "      <td>0.83096</td>\n",
       "      <td>0.58147</td>\n",
       "      <td>0.41904</td>\n",
       "      <td>0.49401</td>\n",
       "      <td>2.47553</td>\n",
       "    </tr>\n",
       "    <tr>\n",
       "      <th>8</th>\n",
       "      <td>Australia</td>\n",
       "      <td>Australia and New Zealand</td>\n",
       "      <td>9</td>\n",
       "      <td>7.313</td>\n",
       "      <td>7.241</td>\n",
       "      <td>7.385</td>\n",
       "      <td>1.44443</td>\n",
       "      <td>1.10476</td>\n",
       "      <td>0.85120</td>\n",
       "      <td>0.56837</td>\n",
       "      <td>0.32331</td>\n",
       "      <td>0.47407</td>\n",
       "      <td>2.54650</td>\n",
       "    </tr>\n",
       "    <tr>\n",
       "      <th>9</th>\n",
       "      <td>Sweden</td>\n",
       "      <td>Western Europe</td>\n",
       "      <td>10</td>\n",
       "      <td>7.291</td>\n",
       "      <td>7.227</td>\n",
       "      <td>7.355</td>\n",
       "      <td>1.45181</td>\n",
       "      <td>1.08764</td>\n",
       "      <td>0.83121</td>\n",
       "      <td>0.58218</td>\n",
       "      <td>0.40867</td>\n",
       "      <td>0.38254</td>\n",
       "      <td>2.54734</td>\n",
       "    </tr>\n",
       "    <tr>\n",
       "      <th>10</th>\n",
       "      <td>Israel</td>\n",
       "      <td>Middle East and Northern Africa</td>\n",
       "      <td>11</td>\n",
       "      <td>7.267</td>\n",
       "      <td>7.199</td>\n",
       "      <td>7.335</td>\n",
       "      <td>1.33766</td>\n",
       "      <td>0.99537</td>\n",
       "      <td>0.84917</td>\n",
       "      <td>0.36432</td>\n",
       "      <td>0.08728</td>\n",
       "      <td>0.32288</td>\n",
       "      <td>3.31029</td>\n",
       "    </tr>\n",
       "    <tr>\n",
       "      <th>11</th>\n",
       "      <td>Austria</td>\n",
       "      <td>Western Europe</td>\n",
       "      <td>12</td>\n",
       "      <td>7.119</td>\n",
       "      <td>7.045</td>\n",
       "      <td>7.193</td>\n",
       "      <td>1.45038</td>\n",
       "      <td>1.08383</td>\n",
       "      <td>0.80565</td>\n",
       "      <td>0.54355</td>\n",
       "      <td>0.21348</td>\n",
       "      <td>0.32865</td>\n",
       "      <td>2.69343</td>\n",
       "    </tr>\n",
       "    <tr>\n",
       "      <th>12</th>\n",
       "      <td>United States</td>\n",
       "      <td>North America</td>\n",
       "      <td>13</td>\n",
       "      <td>7.104</td>\n",
       "      <td>7.020</td>\n",
       "      <td>7.188</td>\n",
       "      <td>1.50796</td>\n",
       "      <td>1.04782</td>\n",
       "      <td>0.77900</td>\n",
       "      <td>0.48163</td>\n",
       "      <td>0.14868</td>\n",
       "      <td>0.41077</td>\n",
       "      <td>2.72782</td>\n",
       "    </tr>\n",
       "    <tr>\n",
       "      <th>13</th>\n",
       "      <td>Costa Rica</td>\n",
       "      <td>Latin America and Caribbean</td>\n",
       "      <td>14</td>\n",
       "      <td>7.087</td>\n",
       "      <td>6.999</td>\n",
       "      <td>7.175</td>\n",
       "      <td>1.06879</td>\n",
       "      <td>1.02152</td>\n",
       "      <td>0.76146</td>\n",
       "      <td>0.55225</td>\n",
       "      <td>0.10547</td>\n",
       "      <td>0.22553</td>\n",
       "      <td>3.35168</td>\n",
       "    </tr>\n",
       "    <tr>\n",
       "      <th>14</th>\n",
       "      <td>Puerto Rico</td>\n",
       "      <td>Latin America and Caribbean</td>\n",
       "      <td>15</td>\n",
       "      <td>7.039</td>\n",
       "      <td>6.794</td>\n",
       "      <td>7.284</td>\n",
       "      <td>1.35943</td>\n",
       "      <td>1.08113</td>\n",
       "      <td>0.77758</td>\n",
       "      <td>0.46823</td>\n",
       "      <td>0.12275</td>\n",
       "      <td>0.22202</td>\n",
       "      <td>3.00760</td>\n",
       "    </tr>\n",
       "    <tr>\n",
       "      <th>15</th>\n",
       "      <td>Germany</td>\n",
       "      <td>Western Europe</td>\n",
       "      <td>16</td>\n",
       "      <td>6.994</td>\n",
       "      <td>6.930</td>\n",
       "      <td>7.058</td>\n",
       "      <td>1.44787</td>\n",
       "      <td>1.09774</td>\n",
       "      <td>0.81487</td>\n",
       "      <td>0.53466</td>\n",
       "      <td>0.28551</td>\n",
       "      <td>0.30452</td>\n",
       "      <td>2.50931</td>\n",
       "    </tr>\n",
       "    <tr>\n",
       "      <th>16</th>\n",
       "      <td>Brazil</td>\n",
       "      <td>Latin America and Caribbean</td>\n",
       "      <td>17</td>\n",
       "      <td>6.952</td>\n",
       "      <td>6.875</td>\n",
       "      <td>7.029</td>\n",
       "      <td>1.08754</td>\n",
       "      <td>1.03938</td>\n",
       "      <td>0.61415</td>\n",
       "      <td>0.40425</td>\n",
       "      <td>0.14166</td>\n",
       "      <td>0.15776</td>\n",
       "      <td>3.50733</td>\n",
       "    </tr>\n",
       "    <tr>\n",
       "      <th>17</th>\n",
       "      <td>Belgium</td>\n",
       "      <td>Western Europe</td>\n",
       "      <td>18</td>\n",
       "      <td>6.929</td>\n",
       "      <td>6.861</td>\n",
       "      <td>6.997</td>\n",
       "      <td>1.42539</td>\n",
       "      <td>1.05249</td>\n",
       "      <td>0.81959</td>\n",
       "      <td>0.51354</td>\n",
       "      <td>0.26248</td>\n",
       "      <td>0.24240</td>\n",
       "      <td>2.61355</td>\n",
       "    </tr>\n",
       "    <tr>\n",
       "      <th>18</th>\n",
       "      <td>Ireland</td>\n",
       "      <td>Western Europe</td>\n",
       "      <td>19</td>\n",
       "      <td>6.907</td>\n",
       "      <td>6.836</td>\n",
       "      <td>6.978</td>\n",
       "      <td>1.48341</td>\n",
       "      <td>1.16157</td>\n",
       "      <td>0.81455</td>\n",
       "      <td>0.54008</td>\n",
       "      <td>0.29754</td>\n",
       "      <td>0.44963</td>\n",
       "      <td>2.15988</td>\n",
       "    </tr>\n",
       "    <tr>\n",
       "      <th>19</th>\n",
       "      <td>Luxembourg</td>\n",
       "      <td>Western Europe</td>\n",
       "      <td>20</td>\n",
       "      <td>6.871</td>\n",
       "      <td>6.804</td>\n",
       "      <td>6.938</td>\n",
       "      <td>1.69752</td>\n",
       "      <td>1.03999</td>\n",
       "      <td>0.84542</td>\n",
       "      <td>0.54870</td>\n",
       "      <td>0.35329</td>\n",
       "      <td>0.27571</td>\n",
       "      <td>2.11055</td>\n",
       "    </tr>\n",
       "  </tbody>\n",
       "</table>\n",
       "</div>"
      ],
      "text/plain": [
       "          Country                           Region  Happiness Rank  \\\n",
       "0         Denmark                   Western Europe               1   \n",
       "1     Switzerland                   Western Europe               2   \n",
       "2         Iceland                   Western Europe               3   \n",
       "3          Norway                   Western Europe               4   \n",
       "4         Finland                   Western Europe               5   \n",
       "5          Canada                    North America               6   \n",
       "6     Netherlands                   Western Europe               7   \n",
       "7     New Zealand        Australia and New Zealand               8   \n",
       "8       Australia        Australia and New Zealand               9   \n",
       "9          Sweden                   Western Europe              10   \n",
       "10         Israel  Middle East and Northern Africa              11   \n",
       "11        Austria                   Western Europe              12   \n",
       "12  United States                    North America              13   \n",
       "13     Costa Rica      Latin America and Caribbean              14   \n",
       "14    Puerto Rico      Latin America and Caribbean              15   \n",
       "15        Germany                   Western Europe              16   \n",
       "16         Brazil      Latin America and Caribbean              17   \n",
       "17        Belgium                   Western Europe              18   \n",
       "18        Ireland                   Western Europe              19   \n",
       "19     Luxembourg                   Western Europe              20   \n",
       "\n",
       "    Happiness Score  Lower Confidence Interval  Upper Confidence Interval  \\\n",
       "0             7.526                      7.460                      7.592   \n",
       "1             7.509                      7.428                      7.590   \n",
       "2             7.501                      7.333                      7.669   \n",
       "3             7.498                      7.421                      7.575   \n",
       "4             7.413                      7.351                      7.475   \n",
       "5             7.404                      7.335                      7.473   \n",
       "6             7.339                      7.284                      7.394   \n",
       "7             7.334                      7.264                      7.404   \n",
       "8             7.313                      7.241                      7.385   \n",
       "9             7.291                      7.227                      7.355   \n",
       "10            7.267                      7.199                      7.335   \n",
       "11            7.119                      7.045                      7.193   \n",
       "12            7.104                      7.020                      7.188   \n",
       "13            7.087                      6.999                      7.175   \n",
       "14            7.039                      6.794                      7.284   \n",
       "15            6.994                      6.930                      7.058   \n",
       "16            6.952                      6.875                      7.029   \n",
       "17            6.929                      6.861                      6.997   \n",
       "18            6.907                      6.836                      6.978   \n",
       "19            6.871                      6.804                      6.938   \n",
       "\n",
       "    Economy (GDP per Capita)   Family  Health (Life Expectancy)  Freedom  \\\n",
       "0                    1.44178  1.16374                   0.79504  0.57941   \n",
       "1                    1.52733  1.14524                   0.86303  0.58557   \n",
       "2                    1.42666  1.18326                   0.86733  0.56624   \n",
       "3                    1.57744  1.12690                   0.79579  0.59609   \n",
       "4                    1.40598  1.13464                   0.81091  0.57104   \n",
       "5                    1.44015  1.09610                   0.82760  0.57370   \n",
       "6                    1.46468  1.02912                   0.81231  0.55211   \n",
       "7                    1.36066  1.17278                   0.83096  0.58147   \n",
       "8                    1.44443  1.10476                   0.85120  0.56837   \n",
       "9                    1.45181  1.08764                   0.83121  0.58218   \n",
       "10                   1.33766  0.99537                   0.84917  0.36432   \n",
       "11                   1.45038  1.08383                   0.80565  0.54355   \n",
       "12                   1.50796  1.04782                   0.77900  0.48163   \n",
       "13                   1.06879  1.02152                   0.76146  0.55225   \n",
       "14                   1.35943  1.08113                   0.77758  0.46823   \n",
       "15                   1.44787  1.09774                   0.81487  0.53466   \n",
       "16                   1.08754  1.03938                   0.61415  0.40425   \n",
       "17                   1.42539  1.05249                   0.81959  0.51354   \n",
       "18                   1.48341  1.16157                   0.81455  0.54008   \n",
       "19                   1.69752  1.03999                   0.84542  0.54870   \n",
       "\n",
       "    Trust (Government Corruption)  Generosity  Dystopia Residual  \n",
       "0                         0.44453     0.36171            2.73939  \n",
       "1                         0.41203     0.28083            2.69463  \n",
       "2                         0.14975     0.47678            2.83137  \n",
       "3                         0.35776     0.37895            2.66465  \n",
       "4                         0.41004     0.25492            2.82596  \n",
       "5                         0.31329     0.44834            2.70485  \n",
       "6                         0.29927     0.47416            2.70749  \n",
       "7                         0.41904     0.49401            2.47553  \n",
       "8                         0.32331     0.47407            2.54650  \n",
       "9                         0.40867     0.38254            2.54734  \n",
       "10                        0.08728     0.32288            3.31029  \n",
       "11                        0.21348     0.32865            2.69343  \n",
       "12                        0.14868     0.41077            2.72782  \n",
       "13                        0.10547     0.22553            3.35168  \n",
       "14                        0.12275     0.22202            3.00760  \n",
       "15                        0.28551     0.30452            2.50931  \n",
       "16                        0.14166     0.15776            3.50733  \n",
       "17                        0.26248     0.24240            2.61355  \n",
       "18                        0.29754     0.44963            2.15988  \n",
       "19                        0.35329     0.27571            2.11055  "
      ]
     },
     "execution_count": 610,
     "metadata": {},
     "output_type": "execute_result"
    }
   ],
   "source": [
    "data15 = data15[:20]\n",
    "data16 = data16[:20]\n",
    "data16"
   ]
  },
  {
   "cell_type": "code",
   "execution_count": 611,
   "metadata": {},
   "outputs": [],
   "source": [
    "from scipy.stats import ttest_ind\n",
    "data_2a, data_2b = ttest_ind(data15['Happiness Score'], data16['Happiness Score'])"
   ]
  },
  {
   "cell_type": "code",
   "execution_count": 612,
   "metadata": {},
   "outputs": [
    {
     "name": "stdout",
     "output_type": "stream",
     "text": [
      "we accept null hypothesis\n"
     ]
    }
   ],
   "source": [
    "if data_2b <0.05:\n",
    "  print(\"we reject null hypothesis\")\n",
    "else:\n",
    "  print(\"we accept null hypothesis\")"
   ]
  },
  {
   "cell_type": "code",
   "execution_count": 613,
   "metadata": {},
   "outputs": [
    {
     "name": "stdout",
     "output_type": "stream",
     "text": [
      "0.4678693976901259 0.6425503499524352\n"
     ]
    }
   ],
   "source": [
    "print(data_2a, data_2b)"
   ]
  },
  {
   "cell_type": "markdown",
   "metadata": {},
   "source": [
    "# Objective 3"
   ]
  },
  {
   "cell_type": "code",
   "execution_count": 614,
   "metadata": {},
   "outputs": [],
   "source": [
    "data17 = pd.read_csv('2017.csv')"
   ]
  },
  {
   "cell_type": "code",
   "execution_count": 615,
   "metadata": {},
   "outputs": [],
   "source": [
    "X = data17[data17.columns[2:11]]"
   ]
  },
  {
   "cell_type": "code",
   "execution_count": 616,
   "metadata": {},
   "outputs": [],
   "source": [
    "from sklearn.cluster import KMeans\n",
    "kmeans = KMeans(n_clusters=5,random_state=342)"
   ]
  },
  {
   "cell_type": "code",
   "execution_count": 617,
   "metadata": {},
   "outputs": [
    {
     "data": {
      "text/plain": [
       "KMeans(algorithm='auto', copy_x=True, init='k-means++', max_iter=300,\n",
       "    n_clusters=5, n_init=10, n_jobs=None, precompute_distances='auto',\n",
       "    random_state=342, tol=0.0001, verbose=0)"
      ]
     },
     "execution_count": 617,
     "metadata": {},
     "output_type": "execute_result"
    }
   ],
   "source": [
    "kmeans.fit(X)"
   ]
  },
  {
   "cell_type": "code",
   "execution_count": 618,
   "metadata": {},
   "outputs": [],
   "source": [
    "data_3 = kmeans.cluster_centers_[3]"
   ]
  },
  {
   "cell_type": "code",
   "execution_count": 619,
   "metadata": {},
   "outputs": [
    {
     "data": {
      "text/plain": [
       "array([6.17383718, 6.26854936, 6.07912501, 1.24802725, 1.34597787,\n",
       "       0.68292037, 0.45642779, 0.22032488, 0.12319044])"
      ]
     },
     "execution_count": 619,
     "metadata": {},
     "output_type": "execute_result"
    }
   ],
   "source": [
    "data_3"
   ]
  },
  {
   "cell_type": "markdown",
   "metadata": {},
   "source": [
    "# Objective 4"
   ]
  },
  {
   "cell_type": "code",
   "execution_count": 620,
   "metadata": {},
   "outputs": [],
   "source": [
    "data18 = pd.read_csv('2018.csv')\n",
    "data18.dropna(inplace=True)\n",
    "X = data18[data18.columns.difference(['Score','Country or region','Overall rank'])]\n",
    "y = data18['Score']\n"
   ]
  },
  {
   "cell_type": "code",
   "execution_count": null,
   "metadata": {},
   "outputs": [],
   "source": []
  },
  {
   "cell_type": "code",
   "execution_count": 621,
   "metadata": {},
   "outputs": [],
   "source": [
    "from sklearn.ensemble import RandomForestRegressor\n",
    "model = RandomForestRegressor(n_estimators=4,max_depth=4, random_state=152)"
   ]
  },
  {
   "cell_type": "code",
   "execution_count": 622,
   "metadata": {},
   "outputs": [
    {
     "data": {
      "text/plain": [
       "RandomForestRegressor(bootstrap=True, criterion='mse', max_depth=4,\n",
       "           max_features='auto', max_leaf_nodes=None,\n",
       "           min_impurity_decrease=0.0, min_impurity_split=None,\n",
       "           min_samples_leaf=1, min_samples_split=2,\n",
       "           min_weight_fraction_leaf=0.0, n_estimators=4, n_jobs=None,\n",
       "           oob_score=False, random_state=152, verbose=0, warm_start=False)"
      ]
     },
     "execution_count": 622,
     "metadata": {},
     "output_type": "execute_result"
    }
   ],
   "source": [
    "model.fit(X,y)"
   ]
  },
  {
   "cell_type": "code",
   "execution_count": 623,
   "metadata": {},
   "outputs": [],
   "source": [
    "#res = dict(zip(X.columns, model.feature_importances_))\n",
    "res = {'IMP':X.columns,'Values':model.feature_importances_}"
   ]
  },
  {
   "cell_type": "code",
   "execution_count": 624,
   "metadata": {},
   "outputs": [],
   "source": [
    "data_4 = pd.DataFrame.from_dict(res)"
   ]
  },
  {
   "cell_type": "code",
   "execution_count": 625,
   "metadata": {},
   "outputs": [],
   "source": [
    "data_4= data_4.sort_values(by=['Values'])[-2:]\n",
    "data_4 = data_4.reset_index(drop=True)"
   ]
  },
  {
   "cell_type": "code",
   "execution_count": 626,
   "metadata": {},
   "outputs": [],
   "source": [
    "data_4.drop(columns='Values',inplace=True)"
   ]
  },
  {
   "cell_type": "code",
   "execution_count": 627,
   "metadata": {},
   "outputs": [
    {
     "data": {
      "text/html": [
       "<div>\n",
       "<style scoped>\n",
       "    .dataframe tbody tr th:only-of-type {\n",
       "        vertical-align: middle;\n",
       "    }\n",
       "\n",
       "    .dataframe tbody tr th {\n",
       "        vertical-align: top;\n",
       "    }\n",
       "\n",
       "    .dataframe thead th {\n",
       "        text-align: right;\n",
       "    }\n",
       "</style>\n",
       "<table border=\"1\" class=\"dataframe\">\n",
       "  <thead>\n",
       "    <tr style=\"text-align: right;\">\n",
       "      <th></th>\n",
       "      <th>IMP</th>\n",
       "    </tr>\n",
       "  </thead>\n",
       "  <tbody>\n",
       "    <tr>\n",
       "      <th>0</th>\n",
       "      <td>Healthy life expectancy</td>\n",
       "    </tr>\n",
       "    <tr>\n",
       "      <th>1</th>\n",
       "      <td>Social support</td>\n",
       "    </tr>\n",
       "  </tbody>\n",
       "</table>\n",
       "</div>"
      ],
      "text/plain": [
       "                       IMP\n",
       "0  Healthy life expectancy\n",
       "1           Social support"
      ]
     },
     "execution_count": 627,
     "metadata": {},
     "output_type": "execute_result"
    }
   ],
   "source": [
    "data_4"
   ]
  },
  {
   "cell_type": "markdown",
   "metadata": {},
   "source": [
    "# Objective 5"
   ]
  },
  {
   "cell_type": "code",
   "execution_count": 628,
   "metadata": {},
   "outputs": [],
   "source": [
    "data17 = pd.read_csv('2017.csv')"
   ]
  },
  {
   "cell_type": "code",
   "execution_count": 629,
   "metadata": {},
   "outputs": [
    {
     "data": {
      "text/plain": [
       "<matplotlib.axes._subplots.AxesSubplot at 0x25dffbbe080>"
      ]
     },
     "execution_count": 629,
     "metadata": {},
     "output_type": "execute_result"
    },
    {
     "data": {
      "image/png": "[encoded data removed]",
      "text/plain": [
       "<Figure size 792x792 with 2 Axes>"
      ]
     },
     "metadata": {},
     "output_type": "display_data"
    }
   ],
   "source": [
    "plt.style.use('fivethirtyeight')\n",
    "f, ax = plt.subplots(figsize=(11, 11))\n",
    "sns.heatmap(data17.corr(),annot = True,annot_kws = {'size': 12})"
   ]
  },
  {
   "cell_type": "code",
   "execution_count": 630,
   "metadata": {},
   "outputs": [],
   "source": [
    "data17.rename(columns={'Happiness.Score':'Score'},inplace=True)"
   ]
  },
  {
   "cell_type": "code",
   "execution_count": 631,
   "metadata": {},
   "outputs": [],
   "source": [
    "X = data17[data17.columns.difference(['Score','Country','Happiness.Rank'])]\n",
    "y = data17['Score']"
   ]
  },
  {
   "cell_type": "code",
   "execution_count": 632,
   "metadata": {},
   "outputs": [],
   "source": [
    "from sklearn.linear_model import LinearRegression"
   ]
  },
  {
   "cell_type": "code",
   "execution_count": 633,
   "metadata": {},
   "outputs": [],
   "source": [
    "model = LinearRegression().fit(X, y)"
   ]
  },
  {
   "cell_type": "code",
   "execution_count": 634,
   "metadata": {},
   "outputs": [],
   "source": [
    "data_5 = model.intercept_"
   ]
  },
  {
   "cell_type": "code",
   "execution_count": 635,
   "metadata": {},
   "outputs": [
    {
     "data": {
      "text/plain": [
       "8.881784197001252e-16"
      ]
     },
     "execution_count": 635,
     "metadata": {},
     "output_type": "execute_result"
    }
   ],
   "source": [
    "data_5"
   ]
  },
  {
   "cell_type": "code",
   "execution_count": null,
   "metadata": {},
   "outputs": [],
   "source": []
  },
  {
   "cell_type": "code",
   "execution_count": null,
   "metadata": {},
   "outputs": [],
   "source": []
  },
  {
   "cell_type": "code",
   "execution_count": null,
   "metadata": {},
   "outputs": [],
   "source": []
  }
 ],
 "metadata": {
  "kernelspec": {
   "display_name": "Python 3",
   "language": "python",
   "name": "python3"
  },
  "language_info": {
   "codemirror_mode": {
    "name": "ipython",
    "version": 3
   },
   "file_extension": ".py",
   "mimetype": "text/x-python",
   "name": "python",
   "nbconvert_exporter": "python",
   "pygments_lexer": "ipython3",
   "version": "3.7.3"
  }
 },
 "nbformat": 4,
 "nbformat_minor": 2
}
